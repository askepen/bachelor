{
 "cells": [
  {
   "cell_type": "code",
   "execution_count": null,
   "source": [
    "from importlib import reload\n",
    "import main\n",
    "import audio_utils\n",
    "import dataset\n",
    "\n",
    "reload(main)\n",
    "reload(audio_utils)\n",
    "reload(dataset)\n",
    "\n",
    "main.main()\n"
   ],
   "outputs": [
    {
     "output_type": "error",
     "ename": "Error",
     "evalue": "Kernel is dead",
     "traceback": [
      "Error: Kernel is dead",
      "at g._sendKernelShellControl (/home/ching/.vscode-server/extensions/ms-toolsai.jupyter-2021.8.2041215044/out/client/extension.js:52:1006195)",
      "at g.sendShellMessage (/home/ching/.vscode-server/extensions/ms-toolsai.jupyter-2021.8.2041215044/out/client/extension.js:52:1005964)",
      "at g.requestExecute (/home/ching/.vscode-server/extensions/ms-toolsai.jupyter-2021.8.2041215044/out/client/extension.js:52:1008506)",
      "at d.requestExecute (/home/ching/.vscode-server/extensions/ms-toolsai.jupyter-2021.8.2041215044/out/client/extension.js:37:325680)",
      "at w.requestExecute (/home/ching/.vscode-server/extensions/ms-toolsai.jupyter-2021.8.2041215044/out/client/extension.js:32:18027)",
      "at w.executeCodeCell (/home/ching/.vscode-server/extensions/ms-toolsai.jupyter-2021.8.2041215044/out/client/extension.js:52:301076)",
      "at w.execute (/home/ching/.vscode-server/extensions/ms-toolsai.jupyter-2021.8.2041215044/out/client/extension.js:52:300703)",
      "at w.start (/home/ching/.vscode-server/extensions/ms-toolsai.jupyter-2021.8.2041215044/out/client/extension.js:52:296367)",
      "at processTicksAndRejections (internal/process/task_queues.js:93:5)",
      "at async t.CellExecutionQueue.executeQueuedCells (/home/ching/.vscode-server/extensions/ms-toolsai.jupyter-2021.8.2041215044/out/client/extension.js:52:311160)",
      "at async t.CellExecutionQueue.start (/home/ching/.vscode-server/extensions/ms-toolsai.jupyter-2021.8.2041215044/out/client/extension.js:52:310700)"
     ]
    }
   ],
   "metadata": {}
  }
 ],
 "metadata": {
  "kernelspec": {
   "name": "python3",
   "display_name": "Python 3.9.5 64-bit ('.venv': venv)"
  },
  "language_info": {
   "codemirror_mode": {
    "name": "ipython",
    "version": 3
   },
   "file_extension": ".py",
   "mimetype": "text/x-python",
   "name": "python",
   "nbconvert_exporter": "python",
   "pygments_lexer": "ipython3",
   "version": "3.9.5"
  },
  "interpreter": {
   "hash": "9374f3af44cc156ef2b4662f045f3f1c36b9b4cbb9fb0eca3ce0d8f4664493cc"
  }
 },
 "nbformat": 4,
 "nbformat_minor": 4
}