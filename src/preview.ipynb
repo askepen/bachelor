{
 "cells": [
  {
   "cell_type": "code",
   "execution_count": 14,
   "metadata": {},
   "outputs": [
    {
     "name": "stderr",
     "output_type": "stream",
     "text": [
      "GPU available: False, used: False\n",
      "TPU available: False, using: 0 TPU cores\n",
      "IPU available: False, using: 0 IPUs\n",
      "/home/ching/bachelor/.venv/lib/python3.9/site-packages/pytorch_lightning/loggers/wandb.py:341: UserWarning: There is a wandb run already in progress and newly created instances of `WandbLogger` will reuse this run. If this is not desired, call `wandb.finish()` before instantiating `WandbLogger`.\n",
      "  rank_zero_warn(\n",
      "\n",
      "  | Name        | Type                 | Params\n",
      "-----------------------------------------------------\n",
      "0 | loss_fn     | MSELoss              | 0     \n",
      "1 | down        | MaxPool2d            | 0     \n",
      "2 | down_blocks | ModuleList           | 4.7 M \n",
      "3 | bottom      | Sequential           | 14.2 M\n",
      "4 | up          | UpsamplingBilinear2d | 0     \n",
      "5 | up_blocks   | ModuleList           | 12.5 M\n",
      "6 | out         | Conv2d               | 130   \n",
      "-----------------------------------------------------\n",
      "31.4 M    Trainable params\n",
      "0         Non-trainable params\n",
      "31.4 M    Total params\n",
      "125.514   Total estimated model params size (MB)\n"
     ]
    },
    {
     "name": "stdout",
     "output_type": "stream",
     "text": [
      "Epoch 0:   0%|          | 5/23075 [01:13<94:15:19, 14.71s/it, loss=5.63e+05, v_num=8g4t]\n",
      "Epoch 0:   0%|          | 11/23075 [00:27<15:50:46,  2.47s/it, loss=4.97e+05, v_num=8g4t]"
     ]
    },
    {
     "data": {
      "text/plain": [
       "<Figure size 900x432 with 0 Axes>"
      ]
     },
     "metadata": {},
     "output_type": "display_data"
    },
    {
     "data": {
      "text/plain": [
       "<Figure size 900x432 with 0 Axes>"
      ]
     },
     "metadata": {},
     "output_type": "display_data"
    },
    {
     "data": {
      "text/plain": [
       "<Figure size 900x432 with 0 Axes>"
      ]
     },
     "metadata": {},
     "output_type": "display_data"
    },
    {
     "data": {
      "text/plain": [
       "<Figure size 900x432 with 0 Axes>"
      ]
     },
     "metadata": {},
     "output_type": "display_data"
    },
    {
     "data": {
      "text/plain": [
       "<Figure size 900x432 with 0 Axes>"
      ]
     },
     "metadata": {},
     "output_type": "display_data"
    },
    {
     "data": {
      "text/plain": [
       "<Figure size 900x432 with 0 Axes>"
      ]
     },
     "metadata": {},
     "output_type": "display_data"
    }
   ],
   "source": [
    "from importlib import reload\n",
    "import main\n",
    "import audio_utils\n",
    "import baseline\n",
    "import dataset\n",
    "import model\n",
    "import transforms\n",
    "import data_module\n",
    "import train\n",
    "\n",
    "reload(audio_utils)\n",
    "reload(baseline)\n",
    "reload(dataset)\n",
    "reload(model)\n",
    "reload(transforms)\n",
    "reload(data_module)\n",
    "reload(train)\n",
    "reload(main)\n",
    "\n",
    "# main.main()\n",
    "hparams = {\n",
    "    \"lr\": 1e-3,\n",
    "    \"batch_size\": 1,\n",
    "    \"stft_height\": 751,\n",
    "    \"stft_width\": 64,\n",
    "    \"n_fft\": None,\n",
    "    \"output_result_every_n_steps\": 5,\n",
    "    \"data_dir\": \"../data\",\n",
    "    \"wandb\": True,\n",
    "    \"num_blocks\": 4,\n",
    "}\n",
    "trainer_hparams = {\n",
    "    \"accelerator\": \"auto\", \n",
    "    #\"gpus\": -1, \n",
    "    \"auto_select_gpus\": True, \n",
    "    \"log_every_n_steps\": 1, \n",
    "}\n",
    "train.train_from_dict(hparams, trainer_hparams)"
   ]
  }
 ],
 "metadata": {
  "interpreter": {
   "hash": "d2a1dfb03d413ba913da3049b6321d1390bfb99156f1230a142d01b9b7e3bfe2"
  },
  "kernelspec": {
   "display_name": "Python 3.9.5 64-bit ('.venv': venv)",
   "name": "python3"
  },
  "language_info": {
   "codemirror_mode": {
    "name": "ipython",
    "version": 3
   },
   "file_extension": ".py",
   "mimetype": "text/x-python",
   "name": "python",
   "nbconvert_exporter": "python",
   "pygments_lexer": "ipython3",
   "version": "3.9.5"
  }
 },
 "nbformat": 4,
 "nbformat_minor": 4
}
