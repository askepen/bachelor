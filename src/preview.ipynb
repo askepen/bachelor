{
 "cells": [
  {
   "cell_type": "code",
   "execution_count": 2,
   "metadata": {},
   "outputs": [
    {
     "name": "stderr",
     "output_type": "stream",
     "text": [
      "usage: ipykernel_launcher.py [-h] [--data_dir DATA_DIR]\n",
      "                             [--batch_size BATCH_SIZE]\n",
      "                             [--stft_width STFT_WIDTH]\n",
      "                             [--stft_height_out STFT_HEIGHT_OUT]\n",
      "                             [--wandb WANDB] [--gpus GPUS]\n",
      "                             [--max_epochs MAX_EPOCHS] [--tpu_cores TPU_CORES]\n",
      "                             [--progress_bar_refresh_rate PROGRESS_BAR_REFRESH_RATE]\n",
      "                             [--lr LR] [--num_blocks NUM_BLOCKS]\n",
      "ipykernel_launcher.py: error: unrecognized arguments: --ip=127.0.0.1 --stdin=9003 --control=9001 --hb=9000 --Session.signature_scheme=\"hmac-sha256\" --Session.key=b\"23092065-a30f-470a-b00f-5ad46550ff1a\" --shell=9002 --transport=\"tcp\" --iopub=9004 --f=/var/folders/yr/_0nb_fx97r1d2j5w04lk9vy80000gn/T/tmp-28478fpF45r9cJndu.json\n"
     ]
    },
    {
     "ename": "SystemExit",
     "evalue": "2",
     "output_type": "error",
     "traceback": [
      "An exception has occurred, use %tb to see the full traceback.\n",
      "\u001b[0;31mSystemExit\u001b[0m\u001b[0;31m:\u001b[0m 2\n"
     ]
    },
    {
     "name": "stderr",
     "output_type": "stream",
     "text": [
      "/Users/ching/DIKU/bachelor/.venv/lib/python3.9/site-packages/IPython/core/interactiveshell.py:3449: UserWarning: To exit: use 'exit', 'quit', or Ctrl-D.\n",
      "  warn(\"To exit: use 'exit', 'quit', or Ctrl-D.\", stacklevel=1)\n"
     ]
    }
   ],
   "source": [
    "from importlib import reload\n",
    "import main\n",
    "import audio_utils\n",
    "import baseline\n",
    "import dataset\n",
    "import model\n",
    "import transforms\n",
    "import data_module\n",
    "import train\n",
    "\n",
    "reload(audio_utils)\n",
    "reload(baseline)\n",
    "reload(dataset)\n",
    "reload(model)\n",
    "reload(transforms)\n",
    "reload(data_module)\n",
    "reload(train)\n",
    "reload(main)\n",
    "\n",
    "main.main()"
   ]
  }
 ],
 "metadata": {
  "interpreter": {
   "hash": "d2a1dfb03d413ba913da3049b6321d1390bfb99156f1230a142d01b9b7e3bfe2"
  },
  "kernelspec": {
   "display_name": "Python 3.9.5 64-bit ('.venv': venv)",
   "name": "python3"
  },
  "language_info": {
   "codemirror_mode": {
    "name": "ipython",
    "version": 3
   },
   "file_extension": ".py",
   "mimetype": "text/x-python",
   "name": "python",
   "nbconvert_exporter": "python",
   "pygments_lexer": "ipython3",
   "version": "3.9.9"
  }
 },
 "nbformat": 4,
 "nbformat_minor": 4
}
